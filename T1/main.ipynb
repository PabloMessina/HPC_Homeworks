{
 "cells": [
  {
   "cell_type": "code",
   "execution_count": 56,
   "metadata": {},
   "outputs": [],
   "source": [
    "import subprocess\n",
    "import time\n",
    "from subprocess import Popen, PIPE"
   ]
  },
  {
   "cell_type": "markdown",
   "metadata": {},
   "source": [
    "## 1) Monte Carlo"
   ]
  },
  {
   "cell_type": "markdown",
   "metadata": {},
   "source": [
    "#### 1.1 serial"
   ]
  },
  {
   "cell_type": "code",
   "execution_count": 35,
   "metadata": {},
   "outputs": [],
   "source": [
    "!gcc montecarlo-serial.c -o montecarlo-serial.o"
   ]
  },
  {
   "cell_type": "code",
   "execution_count": 53,
   "metadata": {},
   "outputs": [],
   "source": [
    "cmd = [\"./montecarlo-serial.o\", \"40000000\"]\n",
    "start = time.time()\n",
    "result = Popen(cmd, stdout=PIPE)\n",
    "out = result.stdout.read()\n",
    "elapsed_time = time.time() - start"
   ]
  },
  {
   "cell_type": "code",
   "execution_count": 70,
   "metadata": {},
   "outputs": [
    {
     "data": {
      "text/plain": [
       "(3.1420214, 1.135866641998291)"
      ]
     },
     "execution_count": 70,
     "metadata": {},
     "output_type": "execute_result"
    }
   ],
   "source": [
    "float(out), elapsed_time"
   ]
  },
  {
   "cell_type": "markdown",
   "metadata": {},
   "source": [
    "#### 1.2 parallel"
   ]
  },
  {
   "cell_type": "code",
   "execution_count": 72,
   "metadata": {},
   "outputs": [],
   "source": [
    "!gcc montecarlo-parallel.c -o montecarlo-parallel.o -fopenmp"
   ]
  },
  {
   "cell_type": "code",
   "execution_count": 83,
   "metadata": {},
   "outputs": [],
   "source": [
    "cmd = [\"./montecarlo-parallel.o\", \"40000000\", \"10\"]\n",
    "start = time.time()\n",
    "result = Popen(cmd, stdout=PIPE)\n",
    "out = result.stdout.read()\n",
    "elapsed_time = time.time() - start"
   ]
  },
  {
   "cell_type": "code",
   "execution_count": 84,
   "metadata": {},
   "outputs": [
    {
     "data": {
      "text/plain": [
       "(3.1413626, 0.16927218437194824)"
      ]
     },
     "execution_count": 84,
     "metadata": {},
     "output_type": "execute_result"
    }
   ],
   "source": [
    "float(out), elapsed_time"
   ]
  },
  {
   "cell_type": "markdown",
   "metadata": {},
   "source": [
    "## 2) Random Numbers Generation"
   ]
  },
  {
   "cell_type": "markdown",
   "metadata": {},
   "source": [
    "#### 2.1 serial"
   ]
  },
  {
   "cell_type": "code",
   "execution_count": 92,
   "metadata": {},
   "outputs": [],
   "source": [
    "!gcc random-numbers-serial.c -o random-numbers-serial.o -lm"
   ]
  },
  {
   "cell_type": "code",
   "execution_count": 88,
   "metadata": {},
   "outputs": [],
   "source": [
    "cmd = [\"./random-numbers-serial.o\"]\n",
    "start = time.time()\n",
    "result = Popen(cmd, stdout=PIPE)\n",
    "out = result.stdout.read()\n",
    "elapsed_time = time.time() - start"
   ]
  },
  {
   "cell_type": "code",
   "execution_count": 90,
   "metadata": {},
   "outputs": [
    {
     "data": {
      "text/plain": [
       "('mu=-0.057675, sigma=577.516650\\n', 0.08122372627258301)"
      ]
     },
     "execution_count": 90,
     "metadata": {},
     "output_type": "execute_result"
    }
   ],
   "source": [
    "out.decode('utf-8'), elapsed_time"
   ]
  },
  {
   "cell_type": "markdown",
   "metadata": {},
   "source": [
    "#### 2.2 parallel"
   ]
  },
  {
   "cell_type": "code",
   "execution_count": 93,
   "metadata": {},
   "outputs": [],
   "source": [
    "!gcc random-numbers-parallel.c -o random-numbers-parallel.o -lm -fopenmp"
   ]
  },
  {
   "cell_type": "code",
   "execution_count": 94,
   "metadata": {},
   "outputs": [],
   "source": [
    "cmd = [\"./random-numbers-parallel.o\", \"10\"]\n",
    "start = time.time()\n",
    "result = Popen(cmd, stdout=PIPE)\n",
    "out = result.stdout.read()\n",
    "elapsed_time = time.time() - start"
   ]
  },
  {
   "cell_type": "code",
   "execution_count": 95,
   "metadata": {},
   "outputs": [
    {
     "data": {
      "text/plain": [
       "('mu=0.000920, sigma=577.292395\\n', 0.01659536361694336)"
      ]
     },
     "execution_count": 95,
     "metadata": {},
     "output_type": "execute_result"
    }
   ],
   "source": [
    "out.decode('utf-8'), elapsed_time"
   ]
  },
  {
   "cell_type": "markdown",
   "metadata": {},
   "source": [
    "## 3) Numerical Integration"
   ]
  },
  {
   "cell_type": "code",
   "execution_count": 121,
   "metadata": {},
   "outputs": [],
   "source": [
    "NUM_SAMPLES_PI = 4e8\n",
    "NUM_PARTITIONS = 1e8"
   ]
  },
  {
   "cell_type": "markdown",
   "metadata": {},
   "source": [
    "#### 3.1 serial"
   ]
  },
  {
   "cell_type": "code",
   "execution_count": 122,
   "metadata": {},
   "outputs": [],
   "source": [
    "!gcc numerical-integration-serial.c -o numerical-integration-serial.o -lm"
   ]
  },
  {
   "cell_type": "code",
   "execution_count": 123,
   "metadata": {},
   "outputs": [],
   "source": [
    "cmd = [\"./numerical-integration-serial.o\", str(NUM_SAMPLES_PI), str(NUM_PARTITIONS)]\n",
    "start = time.time()\n",
    "result = Popen(cmd, stdout=PIPE)\n",
    "out = result.stdout.read()\n",
    "serial_elapsed_time = time.time() - start"
   ]
  },
  {
   "cell_type": "code",
   "execution_count": 124,
   "metadata": {},
   "outputs": [
    {
     "data": {
      "text/plain": [
       "('PI 3.141676\\nMU -0.472249\\nSIGMA 577.891509\\nintegral 0.682680\\n',\n",
       " 14.016451358795166)"
      ]
     },
     "execution_count": 124,
     "metadata": {},
     "output_type": "execute_result"
    }
   ],
   "source": [
    "out.decode('utf-8'), serial_elapsed_time"
   ]
  },
  {
   "cell_type": "markdown",
   "metadata": {},
   "source": [
    "#### 2.2 parallel"
   ]
  },
  {
   "cell_type": "code",
   "execution_count": 178,
   "metadata": {},
   "outputs": [
    {
     "data": {
      "text/plain": [
       "48"
      ]
     },
     "execution_count": 178,
     "metadata": {},
     "output_type": "execute_result"
    }
   ],
   "source": [
    "import multiprocessing\n",
    "n_cpus = multiprocessing.cpu_count()\n",
    "n_cpus"
   ]
  },
  {
   "cell_type": "code",
   "execution_count": 132,
   "metadata": {},
   "outputs": [],
   "source": [
    "NUM_THREADS_LIST = list(range(1, n_cpus + 9))"
   ]
  },
  {
   "cell_type": "code",
   "execution_count": 131,
   "metadata": {},
   "outputs": [],
   "source": [
    "!gcc numerical-integration-parallel.c -o numerical-integration-parallel.o -lm -fopenmp"
   ]
  },
  {
   "cell_type": "code",
   "execution_count": null,
   "metadata": {
    "scrolled": false
   },
   "outputs": [
    {
     "name": "stdout",
     "output_type": "stream",
     "text": [
      "num_threads = 1\n",
      "\telapsed_time = 11.559575 seconds, out = b'PI = 3.141602\\nMU=-0.606259, SIGMA=577.594147\\nintegral = 0.682688\\n'\n",
      "\telapsed_time = 11.490887 seconds, out = b'PI = 3.141608\\nMU=0.309161, SIGMA=577.764230\\nintegral = 0.682688\\n'\n",
      "\telapsed_time = 11.551537 seconds, out = b'PI = 3.141587\\nMU=0.714253, SIGMA=577.496334\\nintegral = 0.682690\\n'\n",
      "\telapsed_time = 11.629676 seconds, out = b'PI = 3.141594\\nMU=0.264326, SIGMA=577.583568\\nintegral = 0.682689\\n'\n",
      "\telapsed_time = 11.480962 seconds, out = b'PI = 3.141601\\nMU=-0.532027, SIGMA=577.536961\\nintegral = 0.682689\\n'\n",
      "\tmean_elapsed_time = 11.542527 seconds\n",
      "num_threads = 2\n",
      "\telapsed_time = 6.137659 seconds, out = b'PI = 3.141602\\nMU=0.641871, SIGMA=577.671032\\nintegral = 0.682689\\n'\n",
      "\telapsed_time = 6.179956 seconds, out = b'PI = 3.141591\\nMU=0.079221, SIGMA=577.672987\\nintegral = 0.682690\\n'\n",
      "\telapsed_time = 5.925773 seconds, out = b'PI = 3.141595\\nMU=-0.130302, SIGMA=577.664626\\nintegral = 0.682689\\n'\n",
      "\telapsed_time = 6.076028 seconds, out = b'PI = 3.141597\\nMU=0.697245, SIGMA=577.546821\\nintegral = 0.682689\\n'\n",
      "\telapsed_time = 6.047748 seconds, out = b'PI = 3.141591\\nMU=0.188583, SIGMA=577.969843\\nintegral = 0.682690\\n'\n",
      "\tmean_elapsed_time = 6.073433 seconds\n",
      "num_threads = 3\n",
      "\telapsed_time = 4.300387 seconds, out = b'PI = 3.141603\\nMU=0.378503, SIGMA=577.429405\\nintegral = 0.682688\\n'\n",
      "\telapsed_time = 4.361585 seconds, out = b'PI = 3.141587\\nMU=0.550932, SIGMA=577.287969\\nintegral = 0.682690\\n'\n",
      "\telapsed_time = 4.181295 seconds, out = b'PI = 3.141580\\nMU=-0.201751, SIGMA=577.673401\\nintegral = 0.682691\\n'\n",
      "\telapsed_time = 4.408423 seconds, out = b'PI = 3.141593\\nMU=0.398498, SIGMA=577.324076\\nintegral = 0.682689\\n'\n",
      "\telapsed_time = 4.344038 seconds, out = b'PI = 3.141586\\nMU=0.116980, SIGMA=577.989196\\nintegral = 0.682690\\n'\n",
      "\tmean_elapsed_time = 4.319146 seconds\n",
      "num_threads = 4\n",
      "\telapsed_time = 3.292798 seconds, out = b'PI = 3.141592\\nMU=0.191793, SIGMA=577.838584\\nintegral = 0.682690\\n'\n",
      "\telapsed_time = 3.315394 seconds, out = b'PI = 3.141606\\nMU=-0.050848, SIGMA=577.748295\\nintegral = 0.682688\\n'\n",
      "\telapsed_time = 3.321166 seconds, out = b'PI = 3.141551\\nMU=-0.349058, SIGMA=577.525764\\nintegral = 0.682694\\n'\n",
      "\telapsed_time = 3.284472 seconds, out = b'PI = 3.141657\\nMU=-0.458419, SIGMA=577.633918\\nintegral = 0.682682\\n'\n",
      "\telapsed_time = 3.359716 seconds, out = b'PI = 3.141644\\nMU=0.273908, SIGMA=577.722919\\nintegral = 0.682684\\n'\n",
      "\tmean_elapsed_time = 3.314709 seconds\n",
      "num_threads = 5\n",
      "\telapsed_time = 2.850935 seconds, out = b'PI = 3.141571\\nMU=-0.445646, SIGMA=577.519173\\nintegral = 0.682692\\n'\n",
      "\telapsed_time = 2.742693 seconds, out = b'PI = 3.141533\\nMU=-0.446047, SIGMA=577.279260\\nintegral = 0.682696\\n'\n",
      "\telapsed_time = 2.903908 seconds, out = b'PI = 3.141581\\nMU=0.258301, SIGMA=577.447153\\nintegral = 0.682691\\n'\n",
      "\telapsed_time = 2.816138 seconds, out = b'PI = 3.141602\\nMU=-0.349784, SIGMA=577.411028\\nintegral = 0.682688\\n'\n",
      "\telapsed_time = 2.843646 seconds, out = b'PI = 3.141575\\nMU=0.060158, SIGMA=577.530708\\nintegral = 0.682691\\n'\n",
      "\tmean_elapsed_time = 2.831464 seconds\n",
      "num_threads = 6\n",
      "\telapsed_time = 2.366129 seconds, out = b'PI = 3.141594\\nMU=0.391717, SIGMA=577.728111\\nintegral = 0.682689\\n'\n",
      "\telapsed_time = 2.389015 seconds, out = b'PI = 3.141601\\nMU=0.545814, SIGMA=577.714007\\nintegral = 0.682689\\n'\n",
      "\telapsed_time = 2.409004 seconds, out = b'PI = 3.141575\\nMU=-0.532967, SIGMA=577.337312\\nintegral = 0.682691\\n'\n",
      "\telapsed_time = 2.305643 seconds, out = b'PI = 3.141593\\nMU=-0.415969, SIGMA=577.577643\\nintegral = 0.682689\\n'\n",
      "\telapsed_time = 2.380582 seconds, out = b'PI = 3.141590\\nMU=0.314956, SIGMA=577.774640\\nintegral = 0.682690\\n'\n",
      "\tmean_elapsed_time = 2.370075 seconds\n",
      "num_threads = 7\n",
      "\telapsed_time = 2.156096 seconds, out = b'PI = 3.141583\\nMU=0.721958, SIGMA=577.641035\\nintegral = 0.682690\\n'\n",
      "\telapsed_time = 2.071553 seconds, out = b'PI = 3.141563\\nMU=-0.118605, SIGMA=577.297173\\nintegral = 0.682693\\n'\n",
      "\telapsed_time = 2.152469 seconds, out = b'PI = 3.141616\\nMU=-0.112436, SIGMA=577.897456\\nintegral = 0.682687\\n'\n",
      "\telapsed_time = 2.151513 seconds, out = b'PI = 3.141556\\nMU=0.476214, SIGMA=577.574000\\nintegral = 0.682694\\n'\n",
      "\telapsed_time = 2.148441 seconds, out = b'PI = 3.141614\\nMU=0.555790, SIGMA=577.422731\\nintegral = 0.682687\\n'\n",
      "\tmean_elapsed_time = 2.136014 seconds\n",
      "num_threads = 8\n",
      "\telapsed_time = 1.924818 seconds, out = b'PI = 3.141590\\nMU=0.423145, SIGMA=577.646006\\nintegral = 0.682690\\n'\n",
      "\telapsed_time = 1.904432 seconds, out = b'PI = 3.141622\\nMU=-0.164816, SIGMA=577.579203\\nintegral = 0.682686\\n'\n",
      "\telapsed_time = 1.962749 seconds, out = b'PI = 3.141592\\nMU=0.528172, SIGMA=577.456305\\nintegral = 0.682690\\n'\n",
      "\telapsed_time = 1.951110 seconds, out = b'PI = 3.141543\\nMU=-0.599616, SIGMA=577.735263\\nintegral = 0.682695\\n'\n",
      "\telapsed_time = 1.873163 seconds, out = b'PI = 3.141556\\nMU=-0.099128, SIGMA=577.447106\\nintegral = 0.682693\\n'\n",
      "\tmean_elapsed_time = 1.923254 seconds\n",
      "num_threads = 9\n",
      "\telapsed_time = 1.697898 seconds, out = b'PI = 3.141505\\nMU=0.131155, SIGMA=577.446801\\nintegral = 0.682699\\n'\n",
      "\telapsed_time = 1.711643 seconds, out = b'PI = 3.141612\\nMU=-0.390452, SIGMA=577.789662\\nintegral = 0.682687\\n'\n",
      "\telapsed_time = 1.711000 seconds, out = b'PI = 3.141587\\nMU=0.186112, SIGMA=577.545240\\nintegral = 0.682690\\n'\n",
      "\telapsed_time = 1.797983 seconds, out = b'PI = 3.141525\\nMU=-0.169958, SIGMA=577.461715\\nintegral = 0.682697\\n'\n",
      "\telapsed_time = 1.736070 seconds, out = b'PI = 3.141626\\nMU=-0.175778, SIGMA=577.770614\\nintegral = 0.682686\\n'\n",
      "\tmean_elapsed_time = 1.730919 seconds\n",
      "num_threads = 10\n",
      "\telapsed_time = 1.531064 seconds, out = b'PI = 3.141530\\nMU=0.264686, SIGMA=577.722308\\nintegral = 0.682696\\n'\n",
      "\telapsed_time = 1.609280 seconds, out = b'PI = 3.141541\\nMU=-0.014392, SIGMA=577.732910\\nintegral = 0.682695\\n'\n",
      "\telapsed_time = 1.628902 seconds, out = b'PI = 3.141550\\nMU=0.089375, SIGMA=577.749285\\nintegral = 0.682694\\n'\n",
      "\telapsed_time = 1.572668 seconds, out = b'PI = 3.141647\\nMU=-0.017247, SIGMA=577.528219\\nintegral = 0.682684\\n'\n",
      "\telapsed_time = 1.559769 seconds, out = b'PI = 3.141541\\nMU=-0.204948, SIGMA=577.713874\\nintegral = 0.682695\\n'\n",
      "\tmean_elapsed_time = 1.580337 seconds\n",
      "num_threads = 11\n",
      "\telapsed_time = 1.438266 seconds, out = b'PI = 3.141564\\nMU=0.251977, SIGMA=577.502902\\nintegral = 0.682693\\n'\n",
      "\telapsed_time = 1.445713 seconds, out = b'PI = 3.141648\\nMU=-0.560111, SIGMA=577.654614\\nintegral = 0.682683\\n'\n",
      "\telapsed_time = 1.435187 seconds, out = b'PI = 3.141547\\nMU=-0.119430, SIGMA=577.552086\\nintegral = 0.682694\\n'\n",
      "\telapsed_time = 1.398650 seconds, out = b'PI = 3.141605\\nMU=-0.504866, SIGMA=577.732354\\nintegral = 0.682688\\n'\n",
      "\telapsed_time = 1.447126 seconds, out = b'PI = 3.141610\\nMU=-0.124996, SIGMA=577.711310\\nintegral = 0.682688\\n'\n",
      "\tmean_elapsed_time = 1.432988 seconds\n",
      "num_threads = 12\n",
      "\telapsed_time = 1.415435 seconds, out = b'PI = 3.141526\\nMU=0.239371, SIGMA=577.534706\\nintegral = 0.682697\\n'\n",
      "\telapsed_time = 1.388048 seconds, out = b'PI = 3.141540\\nMU=0.181062, SIGMA=577.507398\\nintegral = 0.682695\\n'\n",
      "\telapsed_time = 1.333205 seconds, out = b'PI = 3.141625\\nMU=0.453118, SIGMA=577.637648\\nintegral = 0.682686\\n'\n",
      "\telapsed_time = 1.366020 seconds, out = b'PI = 3.141541\\nMU=0.726295, SIGMA=577.804403\\nintegral = 0.682695\\n'\n",
      "\telapsed_time = 1.352781 seconds, out = b'PI = 3.141584\\nMU=0.570793, SIGMA=577.687178\\nintegral = 0.682690\\n'\n",
      "\tmean_elapsed_time = 1.371098 seconds\n",
      "num_threads = 13\n",
      "\telapsed_time = 1.322651 seconds, out = b'PI = 3.141642\\nMU=-0.398015, SIGMA=577.632499\\nintegral = 0.682684\\n'\n",
      "\telapsed_time = 1.252752 seconds, out = b'PI = 3.141544\\nMU=0.620028, SIGMA=577.595549\\nintegral = 0.682695\\n'\n",
      "\telapsed_time = 1.371447 seconds, out = b'PI = 3.141628\\nMU=0.565024, SIGMA=577.757514\\nintegral = 0.682686\\n'\n",
      "\telapsed_time = 1.271280 seconds, out = b'PI = 3.141638\\nMU=0.092958, SIGMA=578.044071\\nintegral = 0.682685\\n'\n",
      "\telapsed_time = 1.366868 seconds, out = b'PI = 3.141661\\nMU=-0.172453, SIGMA=577.822899\\nintegral = 0.682682\\n'\n",
      "\tmean_elapsed_time = 1.317000 seconds\n",
      "num_threads = 14\n",
      "\telapsed_time = 1.208327 seconds, out = b'PI = 3.141594\\nMU=0.137877, SIGMA=577.781503\\nintegral = 0.682689\\n'\n",
      "\telapsed_time = 1.186104 seconds, out = b'PI = 3.141640\\nMU=0.394861, SIGMA=577.740706\\nintegral = 0.682684\\n'\n"
     ]
    },
    {
     "name": "stdout",
     "output_type": "stream",
     "text": [
      "\telapsed_time = 1.189725 seconds, out = b'PI = 3.141583\\nMU=0.713966, SIGMA=577.403676\\nintegral = 0.682691\\n'\n",
      "\telapsed_time = 1.172410 seconds, out = b'PI = 3.141603\\nMU=0.111545, SIGMA=577.832899\\nintegral = 0.682688\\n'\n",
      "\telapsed_time = 1.190769 seconds, out = b'PI = 3.141520\\nMU=0.232205, SIGMA=577.301126\\nintegral = 0.682697\\n'\n",
      "\tmean_elapsed_time = 1.189467 seconds\n",
      "num_threads = 15\n",
      "\telapsed_time = 1.129877 seconds, out = b'PI = 3.141495\\nMU=-0.063641, SIGMA=577.760699\\nintegral = 0.682700\\n'\n",
      "\telapsed_time = 1.274216 seconds, out = b'PI = 3.141662\\nMU=0.093883, SIGMA=577.660008\\nintegral = 0.682682\\n'\n",
      "\telapsed_time = 1.097477 seconds, out = b'PI = 3.141618\\nMU=0.342852, SIGMA=577.324095\\nintegral = 0.682687\\n'\n",
      "\telapsed_time = 1.114740 seconds, out = b'PI = 3.141390\\nMU=0.507863, SIGMA=577.846804\\nintegral = 0.682712\\n'\n",
      "\telapsed_time = 1.331238 seconds, out = b'PI = 3.141534\\nMU=0.260473, SIGMA=577.781638\\nintegral = 0.682696\\n'\n",
      "\tmean_elapsed_time = 1.189510 seconds\n",
      "num_threads = 16\n",
      "\telapsed_time = 1.303912 seconds, out = b'PI = 3.141570\\nMU=-0.386476, SIGMA=577.823324\\nintegral = 0.682692\\n'\n",
      "\telapsed_time = 1.117123 seconds, out = b'PI = 3.141625\\nMU=0.151316, SIGMA=577.533352\\nintegral = 0.682686\\n'\n",
      "\telapsed_time = 1.075931 seconds, out = b'PI = 3.141645\\nMU=0.018032, SIGMA=577.751126\\nintegral = 0.682684\\n'\n",
      "\telapsed_time = 1.083583 seconds, out = b'PI = 3.141665\\nMU=-0.279849, SIGMA=577.851519\\nintegral = 0.682682\\n'\n",
      "\telapsed_time = 1.216123 seconds, out = b'PI = 3.141535\\nMU=-0.108359, SIGMA=577.178925\\nintegral = 0.682696\\n'\n",
      "\tmean_elapsed_time = 1.159334 seconds\n",
      "num_threads = 17\n",
      "\telapsed_time = 1.053604 seconds, out = b'PI = 3.141649\\nMU=0.590939, SIGMA=577.860641\\nintegral = 0.682683\\n'\n",
      "\telapsed_time = 1.162956 seconds, out = b'PI = 3.141435\\nMU=0.687895, SIGMA=577.350527\\nintegral = 0.682707\\n'\n",
      "\telapsed_time = 1.249489 seconds, out = b'PI = 3.141623\\nMU=-0.569659, SIGMA=577.548916\\nintegral = 0.682686\\n'\n",
      "\telapsed_time = 1.239116 seconds, out = b'PI = 3.141668\\nMU=-0.337366, SIGMA=577.902246\\nintegral = 0.682681\\n'\n",
      "\telapsed_time = 1.295384 seconds, out = b'PI = 3.141463\\nMU=0.285643, SIGMA=577.555820\\nintegral = 0.682704\\n'\n",
      "\tmean_elapsed_time = 1.200110 seconds\n",
      "num_threads = 18\n",
      "\telapsed_time = 0.928050 seconds, out = b'PI = 3.141564\\nMU=0.059213, SIGMA=577.831271\\nintegral = 0.682693\\n'\n",
      "\telapsed_time = 0.972866 seconds, out = b'PI = 3.141509\\nMU=-0.025860, SIGMA=577.732544\\nintegral = 0.682699\\n'\n",
      "\telapsed_time = 1.179369 seconds, out = b'PI = 3.141527\\nMU=0.010024, SIGMA=577.814762\\nintegral = 0.682697\\n'\n",
      "\telapsed_time = 0.972264 seconds, out = b'PI = 3.141724\\nMU=-0.610878, SIGMA=577.796790\\nintegral = 0.682675\\n'\n",
      "\telapsed_time = 1.174561 seconds, out = b'PI = 3.141519\\nMU=-0.595925, SIGMA=577.726038\\nintegral = 0.682697\\n'\n",
      "\tmean_elapsed_time = 1.045422 seconds\n",
      "num_threads = 19\n",
      "\telapsed_time = 0.924310 seconds, out = b'PI = 3.141702\\nMU=0.441113, SIGMA=577.720345\\nintegral = 0.682678\\n'\n",
      "\telapsed_time = 0.946325 seconds, out = b'PI = 3.141563\\nMU=0.091885, SIGMA=577.817751\\nintegral = 0.682693\\n'\n",
      "\telapsed_time = 1.131736 seconds, out = b'PI = 3.141578\\nMU=-0.635028, SIGMA=577.584391\\nintegral = 0.682691\\n'\n",
      "\telapsed_time = 1.069826 seconds, out = b'PI = 3.141633\\nMU=0.326277, SIGMA=577.503410\\nintegral = 0.682685\\n'\n",
      "\telapsed_time = 0.922982 seconds, out = b'PI = 3.141665\\nMU=0.385633, SIGMA=577.494302\\nintegral = 0.682682\\n'\n",
      "\tmean_elapsed_time = 0.999036 seconds\n",
      "num_threads = 20\n",
      "\telapsed_time = 0.906672 seconds, out = b'PI = 3.141610\\nMU=0.409165, SIGMA=577.471510\\nintegral = 0.682688\\n'\n",
      "\telapsed_time = 0.897627 seconds, out = b'PI = 3.141632\\nMU=-0.071225, SIGMA=577.746288\\nintegral = 0.682685\\n'\n",
      "\telapsed_time = 1.117315 seconds, out = b'PI = 3.141501\\nMU=0.645304, SIGMA=577.562458\\nintegral = 0.682699\\n'\n",
      "\telapsed_time = 0.896394 seconds, out = b'PI = 3.141608\\nMU=-0.261471, SIGMA=577.967585\\nintegral = 0.682688\\n'\n",
      "\telapsed_time = 1.006642 seconds, out = b'PI = 3.141641\\nMU=0.278428, SIGMA=577.715638\\nintegral = 0.682684\\n'\n",
      "\tmean_elapsed_time = 0.964930 seconds\n",
      "num_threads = 21\n",
      "\telapsed_time = 0.979248 seconds, out = b'PI = 3.141539\\nMU=-0.515197, SIGMA=577.472614\\nintegral = 0.682695\\n'\n",
      "\telapsed_time = 0.850357 seconds, out = b'PI = 3.141626\\nMU=-0.019637, SIGMA=577.714062\\nintegral = 0.682686\\n'\n",
      "\telapsed_time = 0.852369 seconds, out = b'PI = 3.141638\\nMU=0.224335, SIGMA=577.739978\\nintegral = 0.682685\\n'\n",
      "\telapsed_time = 1.079555 seconds, out = b'PI = 3.141574\\nMU=-0.171012, SIGMA=577.855014\\nintegral = 0.682692\\n'\n",
      "\telapsed_time = 1.063263 seconds, out = b'PI = 3.141610\\nMU=-0.228112, SIGMA=577.709044\\nintegral = 0.682688\\n'\n",
      "\tmean_elapsed_time = 0.964958 seconds\n",
      "num_threads = 22\n",
      "\telapsed_time = 0.827612 seconds, out = b'PI = 3.141576\\nMU=-0.047874, SIGMA=577.651764\\nintegral = 0.682691\\n'\n",
      "\telapsed_time = 0.841344 seconds, out = b'PI = 3.141704\\nMU=0.476474, SIGMA=577.527548\\nintegral = 0.682677\\n'\n",
      "\telapsed_time = 1.004098 seconds, out = b'PI = 3.141610\\nMU=-0.427456, SIGMA=577.433439\\nintegral = 0.682688\\n'\n",
      "\telapsed_time = 1.026468 seconds, out = b'PI = 3.141556\\nMU=0.514011, SIGMA=577.674733\\nintegral = 0.682694\\n'\n",
      "\telapsed_time = 0.907329 seconds, out = b'PI = 3.141589\\nMU=0.090935, SIGMA=577.576433\\nintegral = 0.682690\\n'\n",
      "\tmean_elapsed_time = 0.921370 seconds\n",
      "num_threads = 23\n",
      "\telapsed_time = 0.999392 seconds, out = b'PI = 3.141616\\nMU=-0.042397, SIGMA=577.611792\\nintegral = 0.682687\\n'\n",
      "\telapsed_time = 1.039499 seconds, out = b'PI = 3.141624\\nMU=-0.442194, SIGMA=577.446260\\nintegral = 0.682686\\n'\n",
      "\telapsed_time = 1.065743 seconds, out = b'PI = 3.141562\\nMU=0.357735, SIGMA=577.806017\\nintegral = 0.682693\\n'\n",
      "\telapsed_time = 0.860642 seconds, out = b'PI = 3.141725\\nMU=-0.369755, SIGMA=577.566746\\nintegral = 0.682675\\n'\n",
      "\telapsed_time = 1.061546 seconds, out = b'PI = 3.141790\\nMU=-1.170560, SIGMA=577.673715\\nintegral = 0.682668\\n'\n",
      "\tmean_elapsed_time = 1.005364 seconds\n",
      "num_threads = 24\n",
      "\telapsed_time = 0.936883 seconds, out = b'PI = 3.141519\\nMU=-0.223570, SIGMA=577.930792\\nintegral = 0.682698\\n'\n",
      "\telapsed_time = 0.735703 seconds, out = b'PI = 3.141535\\nMU=-0.188885, SIGMA=577.567900\\nintegral = 0.682696\\n'\n",
      "\telapsed_time = 0.971539 seconds, out = b'PI = 3.141535\\nMU=-0.188885, SIGMA=577.567900\\nintegral = 0.682696\\n'\n",
      "\telapsed_time = 0.914285 seconds, out = b'PI = 3.141557\\nMU=-0.026362, SIGMA=577.963912\\nintegral = 0.682693\\n'\n",
      "\telapsed_time = 0.855141 seconds, out = b'PI = 3.141485\\nMU=-0.512513, SIGMA=577.489811\\nintegral = 0.682701\\n'\n",
      "\tmean_elapsed_time = 0.882710 seconds\n",
      "num_threads = 25\n",
      "\telapsed_time = 0.852464 seconds, out = b'PI = 3.141600\\nMU=-0.103506, SIGMA=577.817368\\nintegral = 0.682689\\n'\n",
      "\telapsed_time = 0.878901 seconds, out = b'PI = 3.141699\\nMU=0.390176, SIGMA=577.470238\\nintegral = 0.682678\\n'\n",
      "\telapsed_time = 0.835532 seconds, out = b'PI = 3.141550\\nMU=-0.186147, SIGMA=577.673605\\nintegral = 0.682694\\n'\n",
      "\telapsed_time = 0.995203 seconds, out = b'PI = 3.141498\\nMU=-0.413367, SIGMA=577.569168\\nintegral = 0.682700\\n'\n",
      "\telapsed_time = 0.815862 seconds, out = b'PI = 3.141516\\nMU=-0.554519, SIGMA=577.493201\\nintegral = 0.682698\\n'\n",
      "\tmean_elapsed_time = 0.875592 seconds\n",
      "num_threads = 26\n",
      "\telapsed_time = 0.896423 seconds, out = b'PI = 3.141483\\nMU=0.367584, SIGMA=578.152206\\nintegral = 0.682701\\n'\n",
      "\telapsed_time = 0.914157 seconds, out = b'PI = 3.141483\\nMU=0.367584, SIGMA=578.152206\\nintegral = 0.682701\\n'\n",
      "\telapsed_time = 0.818620 seconds, out = b'PI = 3.141702\\nMU=-0.286887, SIGMA=577.466632\\nintegral = 0.682678\\n'\n",
      "\telapsed_time = 0.933267 seconds, out = b'PI = 3.141634\\nMU=-0.153002, SIGMA=577.527454\\nintegral = 0.682685\\n'\n",
      "\telapsed_time = 0.935365 seconds, out = b'PI = 3.141547\\nMU=0.931898, SIGMA=577.176456\\nintegral = 0.682694\\n'\n",
      "\tmean_elapsed_time = 0.899567 seconds\n",
      "num_threads = 27\n",
      "\telapsed_time = 0.932715 seconds, out = b'PI = 3.141689\\nMU=0.245729, SIGMA=577.958565\\nintegral = 0.682679\\n'\n",
      "\telapsed_time = 0.902138 seconds, out = b'PI = 3.141630\\nMU=0.529824, SIGMA=577.571551\\nintegral = 0.682685\\n'\n",
      "\telapsed_time = 0.879948 seconds, out = b'PI = 3.141590\\nMU=0.511263, SIGMA=577.961400\\nintegral = 0.682690\\n'\n",
      "\telapsed_time = 0.897722 seconds, out = b'PI = 3.141571\\nMU=0.330236, SIGMA=577.639743\\nintegral = 0.682692\\n'\n",
      "\telapsed_time = 0.860962 seconds, out = b'PI = 3.141660\\nMU=0.138067, SIGMA=577.537147\\nintegral = 0.682682\\n'\n",
      "\tmean_elapsed_time = 0.894697 seconds\n",
      "num_threads = 28\n"
     ]
    },
    {
     "name": "stdout",
     "output_type": "stream",
     "text": [
      "\telapsed_time = 0.804297 seconds, out = b'PI = 3.141649\\nMU=-0.018724, SIGMA=577.568625\\nintegral = 0.682683\\n'\n",
      "\telapsed_time = 0.819276 seconds, out = b'PI = 3.141692\\nMU=-0.298472, SIGMA=577.559266\\nintegral = 0.682679\\n'\n",
      "\telapsed_time = 0.908581 seconds, out = b'PI = 3.141590\\nMU=-0.419625, SIGMA=577.680584\\nintegral = 0.682690\\n'\n",
      "\telapsed_time = 0.780598 seconds, out = b'PI = 3.141688\\nMU=-0.143357, SIGMA=577.556242\\nintegral = 0.682679\\n'\n",
      "\telapsed_time = 0.851702 seconds, out = b'PI = 3.141541\\nMU=1.048684, SIGMA=577.810669\\nintegral = 0.682695\\n'\n",
      "\tmean_elapsed_time = 0.832891 seconds\n",
      "num_threads = 29\n",
      "\telapsed_time = 0.794431 seconds, out = b'PI = 3.141604\\nMU=-0.177840, SIGMA=577.665799\\nintegral = 0.682688\\n'\n",
      "\telapsed_time = 0.822541 seconds, out = b'PI = 3.141604\\nMU=-0.177840, SIGMA=577.665799\\nintegral = 0.682688\\n'\n",
      "\telapsed_time = 0.785803 seconds, out = b'PI = 3.141590\\nMU=-0.502374, SIGMA=577.689890\\nintegral = 0.682690\\n'\n",
      "\telapsed_time = 0.867944 seconds, out = b'PI = 3.141478\\nMU=0.544110, SIGMA=577.688785\\nintegral = 0.682702\\n'\n",
      "\telapsed_time = 0.801290 seconds, out = b'PI = 3.141476\\nMU=-0.114629, SIGMA=577.488759\\nintegral = 0.682702\\n'\n",
      "\tmean_elapsed_time = 0.814402 seconds\n",
      "num_threads = 30\n",
      "\telapsed_time = 0.807804 seconds, out = b'PI = 3.141561\\nMU=0.021670, SIGMA=577.583911\\nintegral = 0.682693\\n'\n",
      "\telapsed_time = 0.799822 seconds, out = b'PI = 3.141712\\nMU=-0.588641, SIGMA=577.539133\\nintegral = 0.682677\\n'\n",
      "\telapsed_time = 0.840614 seconds, out = b'PI = 3.141712\\nMU=-0.588641, SIGMA=577.539133\\nintegral = 0.682677\\n'\n",
      "\telapsed_time = 0.846678 seconds, out = b'PI = 3.141477\\nMU=-0.146912, SIGMA=577.794416\\nintegral = 0.682702\\n'\n",
      "\telapsed_time = 0.751169 seconds, out = b'PI = 3.141598\\nMU=-0.347392, SIGMA=577.698642\\nintegral = 0.682689\\n'\n",
      "\tmean_elapsed_time = 0.809217 seconds\n",
      "num_threads = 31\n",
      "\telapsed_time = 0.956803 seconds, out = b'PI = 3.141594\\nMU=0.180301, SIGMA=577.461178\\nintegral = 0.682689\\n'\n",
      "\telapsed_time = 0.766725 seconds, out = b'PI = 3.141602\\nMU=-0.017175, SIGMA=577.596323\\nintegral = 0.682688\\n'\n",
      "\telapsed_time = 0.802697 seconds, out = b'PI = 3.141602\\nMU=-0.017175, SIGMA=577.596323\\nintegral = 0.682688\\n'\n",
      "\telapsed_time = 0.766283 seconds, out = b'PI = 3.141519\\nMU=0.120582, SIGMA=577.669440\\nintegral = 0.682697\\n'\n",
      "\telapsed_time = 0.788513 seconds, out = b'PI = 3.141553\\nMU=0.139772, SIGMA=577.181464\\nintegral = 0.682694\\n'\n",
      "\tmean_elapsed_time = 0.816204 seconds\n",
      "num_threads = 32\n",
      "\telapsed_time = 0.784624 seconds, out = b'PI = 3.141549\\nMU=-0.651240, SIGMA=577.655671\\nintegral = 0.682694\\n'\n",
      "\telapsed_time = 0.784556 seconds, out = b'PI = 3.141630\\nMU=-0.234280, SIGMA=577.547617\\nintegral = 0.682685\\n'\n",
      "\telapsed_time = 0.806533 seconds, out = b'PI = 3.141630\\nMU=-0.234280, SIGMA=577.547617\\nintegral = 0.682685\\n'\n",
      "\telapsed_time = 0.795982 seconds, out = b'PI = 3.141560\\nMU=0.286577, SIGMA=577.465108\\nintegral = 0.682693\\n'\n",
      "\telapsed_time = 0.786377 seconds, out = b'PI = 3.141694\\nMU=-0.254611, SIGMA=578.020433\\nintegral = 0.682679\\n'\n",
      "\tmean_elapsed_time = 0.791615 seconds\n",
      "num_threads = 33\n",
      "\telapsed_time = 0.815178 seconds, out = b'PI = 3.141600\\nMU=0.675435, SIGMA=577.519307\\nintegral = 0.682689\\n'\n",
      "\telapsed_time = 0.789291 seconds, out = b'PI = 3.141508\\nMU=0.340325, SIGMA=577.656941\\nintegral = 0.682699\\n'\n",
      "\telapsed_time = 0.753366 seconds, out = b'PI = 3.141508\\nMU=0.340325, SIGMA=577.656941\\nintegral = 0.682699\\n'\n",
      "\telapsed_time = 0.755177 seconds, out = b'PI = 3.141687\\nMU=-0.611787, SIGMA=577.896320\\nintegral = 0.682679\\n'\n",
      "\telapsed_time = 0.885162 seconds, out = b'PI = 3.141595\\nMU=0.180738, SIGMA=577.954268\\nintegral = 0.682689\\n'\n",
      "\tmean_elapsed_time = 0.799635 seconds\n",
      "num_threads = 34\n",
      "\telapsed_time = 0.775520 seconds, out = b'PI = 3.141463\\nMU=0.709847, SIGMA=577.819518\\nintegral = 0.682704\\n'\n",
      "\telapsed_time = 0.705097 seconds, out = b'PI = 3.141604\\nMU=0.566316, SIGMA=577.552097\\nintegral = 0.682688\\n'\n",
      "\telapsed_time = 0.698616 seconds, out = b'PI = 3.141604\\nMU=0.566316, SIGMA=577.552097\\nintegral = 0.682688\\n'\n",
      "\telapsed_time = 0.731221 seconds, out = b'PI = 3.141603\\nMU=0.400425, SIGMA=577.391216\\nintegral = 0.682688\\n'\n",
      "\telapsed_time = 0.786073 seconds, out = b'PI = 3.141532\\nMU=0.617509, SIGMA=577.758973\\nintegral = 0.682696\\n'\n",
      "\tmean_elapsed_time = 0.739306 seconds\n",
      "num_threads = 35\n",
      "\telapsed_time = 0.722010 seconds, out = b'PI = 3.141518\\nMU=0.647829, SIGMA=577.845790\\nintegral = 0.682698\\n'\n",
      "\telapsed_time = 0.754919 seconds, out = b'PI = 3.141542\\nMU=-0.129466, SIGMA=577.473016\\nintegral = 0.682695\\n'\n",
      "\telapsed_time = 0.751144 seconds, out = b'PI = 3.141677\\nMU=0.304410, SIGMA=577.544605\\nintegral = 0.682680\\n'\n",
      "\telapsed_time = 0.730807 seconds, out = b'PI = 3.141665\\nMU=-0.092100, SIGMA=577.649605\\nintegral = 0.682682\\n'\n",
      "\telapsed_time = 0.714349 seconds, out = b'PI = 3.141665\\nMU=-0.092100, SIGMA=577.649605\\nintegral = 0.682682\\n'\n",
      "\tmean_elapsed_time = 0.734646 seconds\n",
      "num_threads = 36\n",
      "\telapsed_time = 0.707273 seconds, out = b'PI = 3.141692\\nMU=-0.321804, SIGMA=577.291850\\nintegral = 0.682679\\n'\n",
      "\telapsed_time = 0.701773 seconds, out = b'PI = 3.141610\\nMU=-0.293951, SIGMA=577.345967\\nintegral = 0.682688\\n'\n",
      "\telapsed_time = 0.727627 seconds, out = b'PI = 3.141546\\nMU=0.119490, SIGMA=577.626880\\nintegral = 0.682695\\n'\n",
      "\telapsed_time = 0.709211 seconds, out = b'PI = 3.141546\\nMU=0.119490, SIGMA=577.626880\\nintegral = 0.682695\\n'\n",
      "\telapsed_time = 0.739328 seconds, out = b'PI = 3.141617\\nMU=-0.184290, SIGMA=577.835202\\nintegral = 0.682687\\n'\n",
      "\tmean_elapsed_time = 0.717042 seconds\n",
      "num_threads = 37\n",
      "\telapsed_time = 0.699459 seconds, out = b'PI = 3.141482\\nMU=0.610179, SIGMA=577.750885\\nintegral = 0.682702\\n'\n",
      "\telapsed_time = 0.718267 seconds, out = b'PI = 3.141482\\nMU=0.610179, SIGMA=577.750885\\nintegral = 0.682702\\n'\n",
      "\telapsed_time = 0.705482 seconds, out = b'PI = 3.141711\\nMU=0.282346, SIGMA=577.956663\\nintegral = 0.682677\\n'\n",
      "\telapsed_time = 0.715538 seconds, out = b'PI = 3.141735\\nMU=0.308839, SIGMA=578.012514\\nintegral = 0.682674\\n'\n",
      "\telapsed_time = 0.711047 seconds, out = b'PI = 3.141558\\nMU=-0.386236, SIGMA=577.523974\\nintegral = 0.682693\\n'\n",
      "\tmean_elapsed_time = 0.709959 seconds\n",
      "num_threads = 38\n",
      "\telapsed_time = 0.679006 seconds, out = b'PI = 3.141553\\nMU=-0.339378, SIGMA=577.558629\\nintegral = 0.682694\\n'\n",
      "\telapsed_time = 0.680855 seconds, out = b'PI = 3.141601\\nMU=-0.106594, SIGMA=578.034938\\nintegral = 0.682689\\n'\n",
      "\telapsed_time = 0.712276 seconds, out = b'PI = 3.141566\\nMU=0.364654, SIGMA=577.845999\\nintegral = 0.682692\\n'\n",
      "\telapsed_time = 0.687167 seconds, out = b'PI = 3.141566\\nMU=0.364654, SIGMA=577.845999\\nintegral = 0.682692\\n'\n",
      "\telapsed_time = 0.803146 seconds, out = b'PI = 3.141653\\nMU=-0.202845, SIGMA=577.744027\\nintegral = 0.682683\\n'\n",
      "\tmean_elapsed_time = 0.712490 seconds\n",
      "num_threads = 39\n",
      "\telapsed_time = 0.717268 seconds, out = b'PI = 3.141661\\nMU=0.436850, SIGMA=577.729995\\nintegral = 0.682682\\n'\n",
      "\telapsed_time = 0.775232 seconds, out = b'PI = 3.141599\\nMU=-0.054565, SIGMA=577.952691\\nintegral = 0.682689\\n'\n",
      "\telapsed_time = 0.720501 seconds, out = b'PI = 3.141599\\nMU=-0.054565, SIGMA=577.952691\\nintegral = 0.682689\\n'\n",
      "\telapsed_time = 0.700624 seconds, out = b'PI = 3.141433\\nMU=-0.183234, SIGMA=577.598360\\nintegral = 0.682707\\n'\n",
      "\telapsed_time = 0.692838 seconds, out = b'PI = 3.141661\\nMU=0.197389, SIGMA=577.702126\\nintegral = 0.682682\\n'\n",
      "\tmean_elapsed_time = 0.721293 seconds\n",
      "num_threads = 40\n",
      "\telapsed_time = 0.659536 seconds, out = b'PI = 3.141664\\nMU=0.150931, SIGMA=577.713844\\nintegral = 0.682682\\n'\n",
      "\telapsed_time = 0.693361 seconds, out = b'PI = 3.141385\\nMU=0.023489, SIGMA=577.347215\\nintegral = 0.682712\\n'\n",
      "\telapsed_time = 0.639348 seconds, out = b'PI = 3.141577\\nMU=-0.067829, SIGMA=577.648356\\nintegral = 0.682691\\n'\n",
      "\telapsed_time = 0.679041 seconds, out = b'PI = 3.141577\\nMU=-0.067829, SIGMA=577.648356\\nintegral = 0.682691\\n'\n",
      "\telapsed_time = 0.702724 seconds, out = b'PI = 3.141458\\nMU=0.244078, SIGMA=577.576762\\nintegral = 0.682704\\n'\n",
      "\tmean_elapsed_time = 0.674802 seconds\n",
      "num_threads = 41\n",
      "\telapsed_time = 0.665351 seconds, out = b'PI = 3.141456\\nMU=-0.275983, SIGMA=577.387726\\nintegral = 0.682704\\n'\n",
      "\telapsed_time = 0.661180 seconds, out = b'PI = 3.141544\\nMU=-0.281112, SIGMA=577.545341\\nintegral = 0.682695\\n'\n",
      "\telapsed_time = 0.644093 seconds, out = b'PI = 3.141544\\nMU=-0.281112, SIGMA=577.545341\\nintegral = 0.682695\\n'\n"
     ]
    },
    {
     "name": "stdout",
     "output_type": "stream",
     "text": [
      "\telapsed_time = 0.642630 seconds, out = b'PI = 3.141680\\nMU=0.395076, SIGMA=577.526683\\nintegral = 0.682680\\n'\n",
      "\telapsed_time = 0.632147 seconds, out = b'PI = 3.141680\\nMU=0.395076, SIGMA=577.526683\\nintegral = 0.682680\\n'\n",
      "\tmean_elapsed_time = 0.649080 seconds\n",
      "num_threads = 42\n",
      "\telapsed_time = 0.660729 seconds, out = b'PI = 3.141600\\nMU=-0.094032, SIGMA=577.718260\\nintegral = 0.682689\\n'\n",
      "\telapsed_time = 0.633086 seconds, out = b'PI = 3.141794\\nMU=-0.137209, SIGMA=577.722030\\nintegral = 0.682668\\n'\n",
      "\telapsed_time = 0.653097 seconds, out = b'PI = 3.141794\\nMU=-0.137209, SIGMA=577.722030\\nintegral = 0.682668\\n'\n",
      "\telapsed_time = 0.648445 seconds, out = b'PI = 3.141571\\nMU=-0.149506, SIGMA=577.865936\\nintegral = 0.682692\\n'\n",
      "\telapsed_time = 0.646140 seconds, out = b'PI = 3.141665\\nMU=-0.557337, SIGMA=577.759326\\nintegral = 0.682682\\n'\n",
      "\tmean_elapsed_time = 0.648299 seconds\n",
      "num_threads = 43\n",
      "\telapsed_time = 0.676903 seconds, out = b'PI = 3.141676\\nMU=-0.563316, SIGMA=577.807864\\nintegral = 0.682680\\n'\n",
      "\telapsed_time = 0.637905 seconds, out = b'PI = 3.141617\\nMU=0.446371, SIGMA=577.388332\\nintegral = 0.682687\\n'\n",
      "\telapsed_time = 0.625069 seconds, out = b'PI = 3.141514\\nMU=-0.111780, SIGMA=577.450461\\nintegral = 0.682698\\n'\n",
      "\telapsed_time = 0.652802 seconds, out = b'PI = 3.141514\\nMU=-0.111780, SIGMA=577.450461\\nintegral = 0.682698\\n'\n",
      "\telapsed_time = 0.686819 seconds, out = b'PI = 3.141639\\nMU=0.320534, SIGMA=577.473466\\nintegral = 0.682684\\n'\n",
      "\tmean_elapsed_time = 0.655900 seconds\n",
      "num_threads = 44\n",
      "\telapsed_time = 0.665447 seconds, out = b'PI = 3.141581\\nMU=-0.325680, SIGMA=577.827238\\nintegral = 0.682691\\n'\n",
      "\telapsed_time = 0.629057 seconds, out = b'PI = 3.141581\\nMU=-0.325680, SIGMA=577.827238\\nintegral = 0.682691\\n'\n",
      "\telapsed_time = 0.651113 seconds, out = b'PI = 3.141587\\nMU=-0.101330, SIGMA=577.524701\\nintegral = 0.682690\\n'\n",
      "\telapsed_time = 0.625988 seconds, out = b'PI = 3.141524\\nMU=-0.459352, SIGMA=577.903992\\nintegral = 0.682697\\n'\n",
      "\telapsed_time = 0.620833 seconds, out = b'PI = 3.141524\\nMU=-0.459352, SIGMA=577.903992\\nintegral = 0.682697\\n'\n",
      "\tmean_elapsed_time = 0.638487 seconds\n",
      "num_threads = 45\n",
      "\telapsed_time = 0.676683 seconds, out = b'PI = 3.141592\\nMU=0.109771, SIGMA=577.522852\\nintegral = 0.682690\\n'\n",
      "\telapsed_time = 0.602473 seconds, out = b'PI = 3.141592\\nMU=0.109771, SIGMA=577.522852\\nintegral = 0.682690\\n'\n",
      "\telapsed_time = 0.607633 seconds, out = b'PI = 3.141708\\nMU=-0.498736, SIGMA=577.763217\\nintegral = 0.682677\\n'\n",
      "\telapsed_time = 0.678868 seconds, out = b'PI = 3.141573\\nMU=-0.201546, SIGMA=577.958947\\nintegral = 0.682692\\n'\n",
      "\telapsed_time = 0.635509 seconds, out = b'PI = 3.141573\\nMU=-0.201546, SIGMA=577.958947\\nintegral = 0.682692\\n'\n",
      "\tmean_elapsed_time = 0.640233 seconds\n",
      "num_threads = 46\n",
      "\telapsed_time = 0.639304 seconds, out = b'PI = 3.141597\\nMU=-0.706680, SIGMA=577.552223\\nintegral = 0.682689\\n'\n",
      "\telapsed_time = 0.618082 seconds, out = b'PI = 3.141511\\nMU=-0.299355, SIGMA=577.871575\\nintegral = 0.682698\\n'\n",
      "\telapsed_time = 0.628926 seconds, out = b'PI = 3.141511\\nMU=-0.299355, SIGMA=577.871575\\nintegral = 0.682698\\n'\n",
      "\telapsed_time = 0.661446 seconds, out = b'PI = 3.141621\\nMU=-0.306897, SIGMA=577.589856\\nintegral = 0.682686\\n'\n",
      "\telapsed_time = 0.606841 seconds, out = b'PI = 3.141493\\nMU=-0.684522, SIGMA=577.512633\\nintegral = 0.682700\\n'\n",
      "\tmean_elapsed_time = 0.630920 seconds\n",
      "num_threads = 47\n",
      "\telapsed_time = 0.672244 seconds, out = b'PI = 3.141482\\nMU=-0.649768, SIGMA=577.490011\\nintegral = 0.682701\\n'\n",
      "\telapsed_time = 0.592123 seconds, out = b'PI = 3.141600\\nMU=0.130482, SIGMA=578.035910\\nintegral = 0.682689\\n'\n",
      "\telapsed_time = 0.630999 seconds, out = b'PI = 3.141600\\nMU=0.130482, SIGMA=578.035910\\nintegral = 0.682689\\n'\n",
      "\telapsed_time = 0.613167 seconds, out = b'PI = 3.141675\\nMU=-0.057100, SIGMA=577.632640\\nintegral = 0.682681\\n'\n",
      "\telapsed_time = 0.594020 seconds, out = b'PI = 3.141568\\nMU=-0.238781, SIGMA=577.568061\\nintegral = 0.682692\\n'\n",
      "\tmean_elapsed_time = 0.620511 seconds\n",
      "num_threads = 48\n",
      "\telapsed_time = 0.608876 seconds, out = b'PI = 3.141546\\nMU=-0.258348, SIGMA=577.475235\\nintegral = 0.682695\\n'\n",
      "\telapsed_time = 0.566747 seconds, out = b'PI = 3.141531\\nMU=-0.473176, SIGMA=577.661704\\nintegral = 0.682696\\n'\n",
      "\telapsed_time = 0.583243 seconds, out = b'PI = 3.141531\\nMU=-0.473176, SIGMA=577.661704\\nintegral = 0.682696\\n'\n",
      "\telapsed_time = 0.631545 seconds, out = b'PI = 3.141729\\nMU=0.234642, SIGMA=577.453244\\nintegral = 0.682675\\n'\n",
      "\telapsed_time = 0.612011 seconds, out = b'PI = 3.141612\\nMU=0.305966, SIGMA=577.589635\\nintegral = 0.682687\\n'\n",
      "\tmean_elapsed_time = 0.600484 seconds\n",
      "num_threads = 49\n",
      "\telapsed_time = 0.636082 seconds, out = b'PI = 3.141607\\nMU=0.403645, SIGMA=577.554243\\nintegral = 0.682688\\n'\n",
      "\telapsed_time = 0.735391 seconds, out = b'PI = 3.141623\\nMU=0.312437, SIGMA=577.872540\\nintegral = 0.682686\\n'\n"
     ]
    }
   ],
   "source": [
    "parallel_elapsed_times = []\n",
    "for num_threads in NUM_THREADS_LIST:\n",
    "    cmd = [\"./numerical-integration-parallel.o\", str(NUM_SAMPLES_PI), str(NUM_PARTITIONS), str(num_threads)]\n",
    "    mean_elapsed_time = 0\n",
    "    print(\"num_threads = %d\" % num_threads)\n",
    "    for _ in range(5):\n",
    "        start = time.time()\n",
    "        result = Popen(cmd, stdout=PIPE)\n",
    "        out = result.stdout.read()\n",
    "        elapsed_time = time.time() - start\n",
    "        mean_elapsed_time += elapsed_time\n",
    "        print(\"\\telapsed_time = %f seconds, out = %s\" % (elapsed_time, out))\n",
    "    mean_elapsed_time /= 5\n",
    "    print(\"\\tmean_elapsed_time = %f seconds\" % mean_elapsed_time)\n",
    "    parallel_elapsed_times.append(mean_elapsed_time)"
   ]
  },
  {
   "cell_type": "code",
   "execution_count": 179,
   "metadata": {},
   "outputs": [],
   "source": [
    "import matplotlib.pyplot as plt"
   ]
  },
  {
   "cell_type": "code",
   "execution_count": 180,
   "metadata": {},
   "outputs": [],
   "source": [
    "def plot_speedup_vs_num_threads(num_threads_list, serial_time, parallel_times, serial_frac):\n",
    "    real_speedups = [serial_time/t for t in parallel_times]\n",
    "    theo_speedups = [1./(serial_frac + (1. - serial_frac) / nt) for nt in num_threads_list]\n",
    "    plt.figure(figsize=(10,7))\n",
    "    plt.plot(NUM_THREADS_LIST, theo_speedups, label=\"Theoretical Speedup\")\n",
    "    plt.plot(NUM_THREADS_LIST, real_speedups, label=\"Real Speedup\")    \n",
    "    plt.xlabel('Number of threads')\n",
    "    plt.ylabel('Speedup')\n",
    "    plt.title('Speedup vs Number of threads')\n",
    "    plt.legend()\n",
    "    plt.show()"
   ]
  },
  {
   "cell_type": "code",
   "execution_count": 192,
   "metadata": {},
   "outputs": [
    {
     "data": {
      "image/png": "[encoded data removed]",
      "text/plain": [
       "<Figure size 720x504 with 1 Axes>"
      ]
     },
     "metadata": {
      "needs_background": "light"
     },
     "output_type": "display_data"
    }
   ],
   "source": [
    "serial_frac = 1e5 / (1e5 + NUM_SAMPLES_PI + 2e6 + NUM_PARTITIONS)\n",
    "plot_speedup_vs_num_threads(NUM_THREADS_LIST, serial_elapsed_time, parallel_elapsed_times, serial_frac)"
   ]
  },
  {
   "cell_type": "markdown",
   "metadata": {},
   "source": [
    "Notamos que el speedup teórico y el real se mantienen relativamente similares hasta los 6 threads, de ahí en adelante el speedup real empieza progresivamente a distanciarse del speedup teórico. Más aún, cuando la cantidad de threads supera el número de CPUs físicos disponbiles (48) el speedup real experimenta una caída notoria. El distanciamiento del speedup real respecto del teórico probablemente se deba al costo de coordinación entre threads, y al hecho de que las cpus usadas son parte de un cluster compartido con más usuarios, lo cual introduce ruido y limita el aprovechamiento del hardware disponible."
   ]
  }
 ],
 "metadata": {
  "kernelspec": {
   "display_name": "Python 3",
   "language": "python",
   "name": "python3"
  },
  "language_info": {
   "codemirror_mode": {
    "name": "ipython",
    "version": 3
   },
   "file_extension": ".py",
   "mimetype": "text/x-python",
   "name": "python",
   "nbconvert_exporter": "python",
   "pygments_lexer": "ipython3",
   "version": "3.5.2"
  }
 },
 "nbformat": 4,
 "nbformat_minor": 2
}
